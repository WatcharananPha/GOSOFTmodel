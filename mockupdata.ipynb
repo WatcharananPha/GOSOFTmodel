{
 "cells": [
  {
   "cell_type": "code",
   "execution_count": null,
   "metadata": {},
   "outputs": [],
   "source": [
    "import datetime\n",
    "import random\n",
    "import pandas as pd\n",
    "\n",
    "people_roles = [\"Owner\", \"Supplier\", \"Sales Agent\", \"Distributor\", \"Retailer\"]\n",
    "product_categories = [\"Grains\", \"Fruits\", \"Vegetables\", \"Dairy\", \"Meat\"]\n",
    "regions = [\"North\", \"South\", \"East\", \"West\"]\n",
    "base_date = datetime.date.today()\n",
    "\n",
    "people_data = []\n",
    "for i in range(1, 21):\n",
    "    people_data.append([\n",
    "        f\"PEO{i:03d}\",  # Person ID\n",
    "        f\"Person {i}\",  # Full Name\n",
    "        random.choice(people_roles),  # Role in the business\n",
    "        f\"Business {i}\",  # Business Name\n",
    "        f\"+66 9{random.randint(10000000, 99999999)}\",  # Phone Number (Thailand format)\n",
    "        f\"person{i}@business.com\",  # Email\n",
    "        random.choice(regions),  # Region\n",
    "        random.choice(product_categories),  # Product Category\n",
    "        base_date.strftime(\"%Y-%m-%d\")  # Created Date\n",
    "    ])\n",
    "\n",
    "people_df = pd.DataFrame(people_data, columns=[\n",
    "    \"PERSON_ID\", \"FULL_NAME\", \"ROLE\", \"BUSINESS_NAME\", \"PHONE_NUMBER\", \"EMAIL\", \"REGION\", \"PRODUCT_CATEGORY\", \"CREATED_DATE\"\n",
    "])\n",
    "\n",
    "people_csv_path = \"crm_people_mock_data.csv\"\n",
    "people_df.to_csv(people_csv_path, index=False)\n",
    "print(people_csv_path)"
   ]
  },
  {
   "cell_type": "code",
   "execution_count": null,
   "metadata": {},
   "outputs": [],
   "source": [
    "import datetime\n",
    "import random\n",
    "import pandas as pd\n",
    "\n",
    "people_roles = [\"Owner\", \"Supplier\", \"Sales Agent\", \"Distributor\", \"Retailer\"]\n",
    "product_categories = [\"Grains\", \"Fruits\", \"Vegetables\", \"Dairy\", \"Meat\"]\n",
    "regions = [\"North\", \"South\", \"East\", \"West\"]\n",
    "base_date = datetime.date.today()\n",
    "\n",
    "people_data = []\n",
    "for i in range(1, 21):\n",
    "    people_data.append([\n",
    "        f\"PEO{i:03d}\",  # Person ID\n",
    "        f\"Person {i}\",  # Full Name\n",
    "        random.choice(people_roles),  # Role in the business\n",
    "        f\"Business {i}\",  # Business Name\n",
    "        f\"+66 9{random.randint(10000000, 99999999)}\",  # Phone Number (Thailand format)\n",
    "        f\"person{i}@business.com\",  # Email\n",
    "        random.choice(regions),  # Region\n",
    "        random.choice(product_categories),  # Product Category\n",
    "        base_date.strftime(\"%Y-%m-%d\")  # Created Date\n",
    "    ])\n",
    "\n",
    "people_df = pd.DataFrame(people_data, columns=[\n",
    "    \"PERSON_ID\", \"FULL_NAME\", \"ROLE\", \"BUSINESS_NAME\", \"PHONE_NUMBER\", \"EMAIL\", \"REGION\", \"PRODUCT_CATEGORY\", \"CREATED_DATE\"\n",
    "])\n",
    "\n",
    "people_csv_path = \"crm_people_mock_data.csv\"\n",
    "people_df.to_csv(people_csv_path, index=False)\n",
    "print(people_csv_path)"
   ]
  }
 ],
 "metadata": {
  "kernelspec": {
   "display_name": "Python 3",
   "language": "python",
   "name": "python3"
  },
  "language_info": {
   "name": "python",
   "version": "3.11.9"
  }
 },
 "nbformat": 4,
 "nbformat_minor": 2
}
