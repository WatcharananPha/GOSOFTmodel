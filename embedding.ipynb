{
 "cells": [
  {
   "cell_type": "code",
   "execution_count": 2,
   "metadata": {},
   "outputs": [
    {
     "name": "stderr",
     "output_type": "stream",
     "text": [
      "C:\\Users\\kongl\\AppData\\Local\\Temp\\ipykernel_46016\\3398731039.py:10: LangChainDeprecationWarning: The class `HuggingFaceBgeEmbeddings` was deprecated in LangChain 0.2.2 and will be removed in 1.0. An updated version of the class exists in the :class:`~langchain-huggingface package and should be used instead. To use it run `pip install -U :class:`~langchain-huggingface` and import as `from :class:`~langchain_huggingface import HuggingFaceEmbeddings``.\n",
      "  embeddings = HuggingFaceBgeEmbeddings(\n",
      "c:\\Users\\kongl\\AppData\\Local\\Programs\\Python\\Python311\\Lib\\site-packages\\tqdm\\auto.py:21: TqdmWarning: IProgress not found. Please update jupyter and ipywidgets. See https://ipywidgets.readthedocs.io/en/stable/user_install.html\n",
      "  from .autonotebook import tqdm as notebook_tqdm\n"
     ]
    }
   ],
   "source": [
    "from langchain_community.embeddings import HuggingFaceBgeEmbeddings\n",
    "from langchain_community.vectorstores import FAISS\n",
    "from langchain.schema import Document\n",
    "import pandas as pd\n",
    "\n",
    "customer_data = pd.read_csv('Data\\customer_data.csv')\n",
    "crm_data = pd.read_csv('Data\\crm_people_mock_data.csv')\n",
    "\n",
    "model_name = \"BAAI/bge-m3\"\n",
    "embeddings = HuggingFaceBgeEmbeddings(\n",
    "    model_name=model_name,\n",
    "    model_kwargs={\"device\": \"cpu\"},\n",
    "    encode_kwargs={\"normalize_embeddings\": True}\n",
    ")\n",
    "\n",
    "def create_documents(df, source_name):\n",
    "    documents = []\n",
    "    for idx, row in df.iterrows():\n",
    "        content = \" \".join([f\"{col}: {str(val)}\" for col, val in row.items() if pd.notna(val)])\n",
    "        doc = Document(\n",
    "            page_content=content,\n",
    "            metadata={\"source\": source_name, \"row_id\": idx}\n",
    "        )\n",
    "        documents.append(doc)\n",
    "    return documents\n",
    "\n",
    "customer_docs = create_documents(customer_data, \"customer_data\")\n",
    "customer_db = FAISS.from_documents(customer_docs, embeddings)\n",
    "crm_docs = create_documents(crm_data, \"crm_data\")\n",
    "crm_db = FAISS.from_documents(crm_docs, embeddings)\n",
    "customer_db.save_local(\"customer_index\")\n",
    "crm_db.save_local(\"crm_index\")"
   ]
  },
  {
   "cell_type": "code",
   "execution_count": 4,
   "metadata": {},
   "outputs": [],
   "source": [
    "# Load saved indices with allow_dangerous_deserialization=True\n",
    "loaded_customer_db = FAISS.load_local(\"customer_index\", embeddings, allow_dangerous_deserialization=True)\n",
    "loaded_crm_db = FAISS.load_local(\"crm_index\", embeddings, allow_dangerous_deserialization=True)\n",
    "query = \"Find customers interested in apples\"\n",
    "results = loaded_customer_db.similarity_search(query, k=2)"
   ]
  }
 ],
 "metadata": {
  "kernelspec": {
   "display_name": "Python 3",
   "language": "python",
   "name": "python3"
  },
  "language_info": {
   "codemirror_mode": {
    "name": "ipython",
    "version": 3
   },
   "file_extension": ".py",
   "mimetype": "text/x-python",
   "name": "python",
   "nbconvert_exporter": "python",
   "pygments_lexer": "ipython3",
   "version": "3.11.9"
  }
 },
 "nbformat": 4,
 "nbformat_minor": 2
}
